{
 "cells": [
  {
   "cell_type": "markdown",
   "metadata": {},
   "source": [
    "# Clean HDB Data"
   ]
  },
  {
   "cell_type": "code",
   "execution_count": 1,
   "metadata": {},
   "outputs": [],
   "source": [
    "# Import required modules\n",
    "import numpy as np\n",
    "import pandas as pd"
   ]
  },
  {
   "cell_type": "markdown",
   "metadata": {},
   "source": [
    "## Import Data"
   ]
  },
  {
   "cell_type": "code",
   "execution_count": 2,
   "metadata": {},
   "outputs": [],
   "source": [
    "# Import data\n",
    "resale = pd.read_csv('../Data/HDB/resale_jan15.csv')\n",
    "resale = pd.concat([resale, pd.read_csv('../Data/HDB/resale_jan17.csv')])"
   ]
  },
  {
   "cell_type": "markdown",
   "metadata": {},
   "source": [
    "## Data Cleaning\n",
    "I performed the following steps for data cleaning:\n",
    "\n",
    "1. Convert area from square meters to square feet for alignment with the private property models.\n",
    "2. Converted price from price per square meter to price per square foot for alignment with the private property models.\n",
    "3. Cleaned the remaining lease feature. It was originally a string which stated years and months. This was converted to simply the number of years remaining.\n",
    "4. Converted block into block number and letter."
   ]
  },
  {
   "cell_type": "code",
   "execution_count": 3,
   "metadata": {},
   "outputs": [],
   "source": [
    "# Convert sqm to sqft\n",
    "resale['floor_area_sqm'] = resale.floor_area_sqm * 10.7639\n",
    "resale = resale.rename(columns={'floor_area_sqm': 'sqft'})\n",
    "\n",
    "# Convert price to p/sqm\n",
    "resale['price'] = resale.resale_price / resale.sqft\n",
    "\n",
    "# Convert to lower case\n",
    "resale['street_name'] = resale.street_name.str.lower()\n",
    "\n",
    "# Clean remaining lease\n",
    "resale['remaining_lease'] = resale.remaining_lease.astype('str')\n",
    "resale['remaining_lease'] = pd.to_numeric(resale.remaining_lease.str.replace(' year.*', ''))\n",
    "\n",
    "# Convert block to block number and letter\n",
    "resale['block_num'] = resale.block.str.replace('[A-Z]', '')\n",
    "resale['block_letter'] = resale.block.str.replace('[0-9]', '')"
   ]
  },
  {
   "cell_type": "markdown",
   "metadata": {},
   "source": [
    "## Merge with HDB Information\n",
    "I merged the HDB dataset with [additional information on HDB blocks from Data.Gov.Sg](https://data.gov.sg/dataset/hdb-property-information). These added features substantially improved C-Value."
   ]
  },
  {
   "cell_type": "code",
   "execution_count": 4,
   "metadata": {},
   "outputs": [],
   "source": [
    "# Read data\n",
    "info = pd.read_csv('../Data/HDB/hdb-property-information.csv')\n",
    "\n",
    "# Create block ID\n",
    "info['street'] = info.street.str.lower()\n",
    "info['block_num'] = info.blk_no.str.replace('[A-Z]', '')\n",
    "info['block_letter'] = info.blk_no.str.replace('[0-9]', '')\n",
    "info['block_id'] = info.block_num + '-' + info.block_letter + info.street\n",
    "resale['block_id'] = resale.block_num + '-' + resale.block_letter + resale.street_name\n",
    "\n",
    "# Drop unused\n",
    "info = info.drop(['block_num', 'block_letter', 'blk_no', 'street', 'year_completed', 'bldg_contract_town'], axis=1)\n",
    "\n",
    "# Convert to binary\n",
    "for col in ['residential', 'commercial', 'market_hawker', 'miscellaneous', 'multistorey_carpark', 'precinct_pavilion']:\n",
    "    info[col] = (info[col] == 'Y').astype(int)\n",
    "    \n",
    "# Merge with resale\n",
    "resale = resale.merge(info, on='block_id', how='left').drop('block_id', axis=1)"
   ]
  },
  {
   "cell_type": "markdown",
   "metadata": {},
   "source": [
    "## Feature Engineering"
   ]
  },
  {
   "cell_type": "code",
   "execution_count": 5,
   "metadata": {},
   "outputs": [],
   "source": [
    "# Create age\n",
    "resale['age'] = 2019 - resale.lease_commence_date\n",
    "\n",
    "# Create storey\n",
    "resale['floor'] = pd.to_numeric(resale['storey_range'].str.replace('.*TO ', ''))"
   ]
  },
  {
   "cell_type": "markdown",
   "metadata": {},
   "source": [
    "# Export Data"
   ]
  },
  {
   "cell_type": "code",
   "execution_count": 6,
   "metadata": {},
   "outputs": [],
   "source": [
    "# Drop features\n",
    "resale = resale.drop(['storey_range', 'lease_commence_date', 'resale_price', 'block'], axis=1)\n",
    "\n",
    "# Rename target\n",
    "resale = resale.rename(columns={'price': 'target'})\n",
    "\n",
    "# Export\n",
    "resale.to_csv('../Data/resale_final.csv', index=False)"
   ]
  }
 ],
 "metadata": {
  "kernelspec": {
   "display_name": "Python 3",
   "language": "python",
   "name": "python3"
  },
  "language_info": {
   "codemirror_mode": {
    "name": "ipython",
    "version": 3
   },
   "file_extension": ".py",
   "mimetype": "text/x-python",
   "name": "python",
   "nbconvert_exporter": "python",
   "pygments_lexer": "ipython3",
   "version": "3.7.3"
  },
  "toc": {
   "base_numbering": 1,
   "nav_menu": {},
   "number_sections": true,
   "sideBar": true,
   "skip_h1_title": false,
   "title_cell": "Table of Contents",
   "title_sidebar": "Contents",
   "toc_cell": false,
   "toc_position": {},
   "toc_section_display": true,
   "toc_window_display": false
  }
 },
 "nbformat": 4,
 "nbformat_minor": 4
}
