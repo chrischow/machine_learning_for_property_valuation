{
 "cells": [
  {
   "cell_type": "markdown",
   "metadata": {},
   "source": [
    "# Clean Private Property Data\n",
    "In this notebook, we perform basic data cleaning and feature engineering on [URA private property caveat data](https://www.ura.gov.sg/realEstateIIWeb/transaction/search.action). I manually searched and saved data on all districts and all propety types separately, because the URA Caveat search facility limits the type of query you can make at any one time."
   ]
  },
  {
   "cell_type": "code",
   "execution_count": 1,
   "metadata": {},
   "outputs": [],
   "source": [
    "# Import required modules\n",
    "import lightgbm as lgbm\n",
    "import matplotlib.pyplot as plt\n",
    "import numpy as np\n",
    "import os\n",
    "import pandas as pd\n",
    "import warnings\n",
    "\n",
    "from lightgbm import LGBMRegressor\n",
    "from sklearn.ensemble import RandomForestRegressor\n",
    "from sklearn.linear_model import LinearRegression\n",
    "from sklearn.metrics import r2_score, mean_squared_error, mean_absolute_error\n",
    "from sklearn.model_selection import RepeatedKFold, KFold\n",
    "from sklearn.preprocessing import MinMaxScaler\n",
    "from sklearn.neighbors import KNeighborsRegressor\n",
    "from sklearn.svm import SVR\n",
    "from xgboost import XGBRegressor, Booster\n",
    "\n",
    "# Settings\n",
    "warnings.filterwarnings('ignore')"
   ]
  },
  {
   "cell_type": "markdown",
   "metadata": {},
   "source": [
    "## Import Data"
   ]
  },
  {
   "cell_type": "code",
   "execution_count": 2,
   "metadata": {},
   "outputs": [],
   "source": [
    "# Get files\n",
    "file_list = os.listdir('../Data/Private/')\n",
    "\n",
    "# Initialise dataframe\n",
    "df = pd.DataFrame()\n",
    "\n",
    "for file in file_list:\n",
    "    \n",
    "    # Import data\n",
    "    temp_df = pd.read_csv('../Data/Private/'+file, skiprows=1)\n",
    "    \n",
    "    # Get last row\n",
    "    last_row = int(temp_df['S/N'][temp_df['S/N'].str.contains('record\\(s\\)').fillna(False)].values[0].split(' ')[0])\n",
    "    \n",
    "    if 'district' in file:\n",
    "        temp_df['category'] = 'Landed'\n",
    "    elif 'strata' in file:\n",
    "        temp_df['category'] = 'Landed'\n",
    "    elif 'condo' in file:\n",
    "        temp_df['category'] = 'NonLanded'\n",
    "    elif 'exec' in file:\n",
    "        temp_df['category'] = 'NonLanded'\n",
    "    \n",
    "    # Append\n",
    "    df = pd.concat([df, temp_df.iloc[:last_row]])"
   ]
  },
  {
   "cell_type": "markdown",
   "metadata": {},
   "source": [
    "## Data Cleaning\n",
    "The data was relatively clean if not for the `tenure` feature. I performed the following steps for cleaning `tenure`:\n",
    "\n",
    "1. Missing entries for Tenure: Filled in the information using a simple Google search on the relevant properties.\n",
    "2. Tenure without start year: I found out that these were properties that were still under construction. I filled in the completion year for these properties through Google.\n",
    "3. Freehold properties had no starting year for tenure: I made the assumption that all Freehold properties were constructed in 1985. On hindsight, this could have affected C-Value’s accuracy.\n",
    "\n",
    "With `tenure` cleaned, I was able to generate a new feature: `age`."
   ]
  },
  {
   "cell_type": "code",
   "execution_count": 3,
   "metadata": {},
   "outputs": [],
   "source": [
    "# Reset index\n",
    "df = df.reset_index(drop=True)\n",
    "\n",
    "# Fill in known entries\n",
    "df['Tenure'].loc[15579] = '999 yrs lease commencing from 2014'\n",
    "df['Tenure'].loc[28532] = 'Freehold'\n",
    "df['Tenure'].loc[56924] = 'Freehold'\n",
    "df['Tenure'].loc[58533] = '999 yrs lease commencing from 1988'\n",
    "df['Tenure'].loc[58537] = 'Freehold'\n",
    "df['Tenure'][df['Project Name'] == 'PIERMONT GRAND'] = '99 yrs lease commencing from 2023'\n",
    "df['Tenure'] = df.Tenure.str.replace('27/03/2018', '2018')\n",
    "\n",
    "# Calculate remaining lease\n",
    "lease_years = df.Tenure.apply(lambda x: x.strip().split(' ')[0])\n",
    "lease_years[lease_years == 'Freehold'] = 9999\n",
    "lease_years = pd.to_numeric(lease_years)\n",
    "lease_years[lease_years > 999] = 9999\n",
    "\n",
    "start_year = df.Tenure.apply(lambda x: x.strip().split(' ')[-1])\n",
    "start_year[start_year == 'Freehold'] = 2019\n",
    "start_year = start_year.astype(int)\n",
    "\n",
    "df['remaining_lease'] = start_year + lease_years - 2019\n",
    "df['freehold'] = (df['Tenure'] == 'Freehold').astype(int)\n",
    "\n",
    "# Age\n",
    "df['age'] = 1985\n",
    "df['age'][df.Tenure != 'Freehold'] = start_year[df.Tenure != 'Freehold']\n",
    "df['age'][df.age == ''] = 1985\n",
    "df['age'] = 2019-pd.to_numeric(df.age)\n",
    "\n",
    "# Clean district\n",
    "df['Postal District'] = pd.to_numeric(df['Postal District']).astype(int)\n",
    "\n",
    "# Rename columns\n",
    "df.columns = df.columns.str.replace('[^a-zA-Z0-9\\s_]', '').str.strip().str.lower().str.replace(' ', '_')\n",
    "df = df.rename(columns={'unit_price_psf': 'target'})"
   ]
  },
  {
   "cell_type": "markdown",
   "metadata": {},
   "source": [
    "## Export Data"
   ]
  },
  {
   "cell_type": "code",
   "execution_count": 4,
   "metadata": {},
   "outputs": [],
   "source": [
    "# Save data\n",
    "df.to_csv('../Data/caveat_data_final.csv', index=False)"
   ]
  }
 ],
 "metadata": {
  "kernelspec": {
   "display_name": "Python 3",
   "language": "python",
   "name": "python3"
  },
  "language_info": {
   "codemirror_mode": {
    "name": "ipython",
    "version": 3
   },
   "file_extension": ".py",
   "mimetype": "text/x-python",
   "name": "python",
   "nbconvert_exporter": "python",
   "pygments_lexer": "ipython3",
   "version": "3.7.3"
  },
  "toc": {
   "base_numbering": 1,
   "nav_menu": {},
   "number_sections": true,
   "sideBar": true,
   "skip_h1_title": false,
   "title_cell": "Table of Contents",
   "title_sidebar": "Contents",
   "toc_cell": false,
   "toc_position": {
    "height": "calc(100% - 180px)",
    "left": "10px",
    "top": "150px",
    "width": "384px"
   },
   "toc_section_display": true,
   "toc_window_display": false
  }
 },
 "nbformat": 4,
 "nbformat_minor": 4
}
